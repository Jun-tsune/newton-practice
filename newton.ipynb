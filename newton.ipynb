{
 "cells": [
  {
   "cell_type": "markdown",
   "id": "8d0106b6-3d48-4a7d-ad38-f7ffa2afba87",
   "metadata": {},
   "source": [
    "# Newton method"
   ]
  },
  {
   "cell_type": "code",
   "execution_count": 1,
   "id": "4ed48fc3-dee5-435e-b124-698d7768a6d2",
   "metadata": {},
   "outputs": [],
   "source": [
    "import numpy as np"
   ]
  },
  {
   "cell_type": "code",
   "execution_count": 45,
   "id": "56bd0545-0f43-4483-848e-b3f8326f4bd7",
   "metadata": {},
   "outputs": [],
   "source": [
    "x = np.asarray([1,2,3])"
   ]
  },
  {
   "cell_type": "code",
   "execution_count": 46,
   "id": "f964bbe1-2eb4-48ab-96f2-e216c521597a",
   "metadata": {},
   "outputs": [],
   "source": [
    "def est_func(x):# assuming func y=x^2+y^3+z^2+xz+y^2\n",
    "    y = x[0]**2+x[1]**3+x[2]**2+x[0]*x[2]+x[1]**2\n",
    "    return y"
   ]
  },
  {
   "cell_type": "code",
   "execution_count": 47,
   "id": "940a4b20-96e3-4cfd-8150-47e5f1518bc2",
   "metadata": {},
   "outputs": [
    {
     "data": {
      "text/plain": [
       "25"
      ]
     },
     "execution_count": 47,
     "metadata": {},
     "output_type": "execute_result"
    }
   ],
   "source": [
    "est_func(x)"
   ]
  },
  {
   "cell_type": "code",
   "execution_count": 55,
   "id": "1e3a4749-b154-4d62-a1cc-f994d0d27df1",
   "metadata": {},
   "outputs": [],
   "source": [
    "def derivative(x, est_precision, sign):\n",
    "    dev = x\n",
    "    for i in range(len(x)):\n",
    "        x_2 = x\n",
    "        x_2[i] = x[i] + est_precision * sign\n",
    "        y = est_func(x)\n",
    "        y_2 = est_func(x_2)\n",
    "        dev[i] = (y_2 - y)/(est_precision * sign)\n",
    "    return dev "
   ]
  },
  {
   "cell_type": "code",
   "execution_count": 56,
   "id": "9b78699f-ea71-4c4b-8bf7-b3abc1e990ea",
   "metadata": {},
   "outputs": [
    {
     "data": {
      "text/plain": [
       "array([0, 0, 0])"
      ]
     },
     "execution_count": 56,
     "metadata": {},
     "output_type": "execute_result"
    }
   ],
   "source": [
    "derivative(x, 0.000001, 1)"
   ]
  },
  {
   "cell_type": "code",
   "execution_count": 61,
   "id": "b9147a9c-5421-4183-aa9d-945875481424",
   "metadata": {},
   "outputs": [],
   "source": [
    "def sec_derivative(x, est_precision, sign):\n",
    "    dev = x\n",
    "    for i in range(len(x)):    \n",
    "        x_2[i] = x[i] + est_precision * sign\n",
    "        y = derivative(x, est_precision, sign)\n",
    "        y_2 = derivative(x_2, est_precision, sign)\n",
    "        dev[i] = (y_2 - y)/est_precision * sign\n",
    "    return dev"
   ]
  },
  {
   "cell_type": "code",
   "execution_count": 62,
   "id": "362e6546-b6ae-42ae-8397-4c470a34fc51",
   "metadata": {},
   "outputs": [
    {
     "ename": "ValueError",
     "evalue": "setting an array element with a sequence.",
     "output_type": "error",
     "traceback": [
      "\u001b[0;31m---------------------------------------------------------------------------\u001b[0m",
      "\u001b[0;31mTypeError\u001b[0m                                 Traceback (most recent call last)",
      "\u001b[0;31mTypeError\u001b[0m: only length-1 arrays can be converted to Python scalars",
      "\nThe above exception was the direct cause of the following exception:\n",
      "\u001b[0;31mValueError\u001b[0m                                Traceback (most recent call last)",
      "Cell \u001b[0;32mIn[62], line 1\u001b[0m\n\u001b[0;32m----> 1\u001b[0m \u001b[43msec_derivative\u001b[49m\u001b[43m(\u001b[49m\u001b[43mx\u001b[49m\u001b[43m,\u001b[49m\u001b[43m \u001b[49m\u001b[38;5;241;43m0.01\u001b[39;49m\u001b[43m,\u001b[49m\u001b[43m \u001b[49m\u001b[38;5;241;43m1\u001b[39;49m\u001b[43m)\u001b[49m\n",
      "Cell \u001b[0;32mIn[61], line 7\u001b[0m, in \u001b[0;36msec_derivative\u001b[0;34m(x, est_precision, sign)\u001b[0m\n\u001b[1;32m      5\u001b[0m     y \u001b[38;5;241m=\u001b[39m derivative(x, est_precision, sign)\n\u001b[1;32m      6\u001b[0m     y_2 \u001b[38;5;241m=\u001b[39m derivative(x_2, est_precision, sign)\n\u001b[0;32m----> 7\u001b[0m     \u001b[43mdev\u001b[49m\u001b[43m[\u001b[49m\u001b[43mi\u001b[49m\u001b[43m]\u001b[49m \u001b[38;5;241m=\u001b[39m (y_2 \u001b[38;5;241m-\u001b[39m y)\u001b[38;5;241m/\u001b[39mest_precision \u001b[38;5;241m*\u001b[39m sign\n\u001b[1;32m      8\u001b[0m \u001b[38;5;28;01mreturn\u001b[39;00m dev\n",
      "\u001b[0;31mValueError\u001b[0m: setting an array element with a sequence."
     ]
    }
   ],
   "source": [
    "sec_derivative(x, 0.01, 1)"
   ]
  },
  {
   "cell_type": "code",
   "execution_count": 21,
   "id": "8082795e-86c8-4b89-a67f-11ab974a0299",
   "metadata": {},
   "outputs": [],
   "source": [
    "def optimize(x, itter=100000):\n",
    "    for i in range(itter):\n",
    "        est_precision = 1/((i+1)*10)\n",
    "        sign = (-1)**i\n",
    "        dev = derivative(x, est_precision, sign)\n",
    "        sec_dev = sec_derivative(x, est_precision, sign)\n",
    "        x = x - dev/sec_dev\n",
    "    return x"
   ]
  },
  {
   "cell_type": "code",
   "execution_count": 22,
   "id": "01a9e881-426c-4539-9759-de5b191378ea",
   "metadata": {},
   "outputs": [
    {
     "data": {
      "text/plain": [
       "array([-0.80628656,  0.19371344,  1.19371344])"
      ]
     },
     "execution_count": 22,
     "metadata": {},
     "output_type": "execute_result"
    }
   ],
   "source": [
    "optimize(x, 100000)"
   ]
  },
  {
   "cell_type": "code",
   "execution_count": null,
   "id": "ba2d63b3-bfe0-4a97-9c24-d88d161182cb",
   "metadata": {},
   "outputs": [],
   "source": []
  }
 ],
 "metadata": {
  "kernelspec": {
   "display_name": "Python 3 (ipykernel)",
   "language": "python",
   "name": "python3"
  },
  "language_info": {
   "codemirror_mode": {
    "name": "ipython",
    "version": 3
   },
   "file_extension": ".py",
   "mimetype": "text/x-python",
   "name": "python",
   "nbconvert_exporter": "python",
   "pygments_lexer": "ipython3",
   "version": "3.11.9"
  }
 },
 "nbformat": 4,
 "nbformat_minor": 5
}
