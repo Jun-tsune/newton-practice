{
 "cells": [
  {
   "cell_type": "markdown",
   "id": "8d0106b6-3d48-4a7d-ad38-f7ffa2afba87",
   "metadata": {},
   "source": [
    "# Newton method"
   ]
  },
  {
   "cell_type": "code",
   "execution_count": 2,
   "id": "f964bbe1-2eb4-48ab-96f2-e216c521597a",
   "metadata": {},
   "outputs": [],
   "source": [
    "def est_func(x):# assuming func y=x^2+2x+1\n",
    "    y = x**2+2*x+1\n",
    "    return y"
   ]
  },
  {
   "cell_type": "code",
   "execution_count": 4,
   "id": "940a4b20-96e3-4cfd-8150-47e5f1518bc2",
   "metadata": {},
   "outputs": [
    {
     "data": {
      "text/plain": [
       "9"
      ]
     },
     "execution_count": 4,
     "metadata": {},
     "output_type": "execute_result"
    }
   ],
   "source": [
    "est_func(2)"
   ]
  },
  {
   "cell_type": "code",
   "execution_count": 12,
   "id": "1e3a4749-b154-4d62-a1cc-f994d0d27df1",
   "metadata": {},
   "outputs": [],
   "source": [
    "def derivative(x, est_precision, sign):\n",
    "    x_2 = x + est_precision * sign\n",
    "    y = est_func(x)\n",
    "    y_2 = est_func(x_2)\n",
    "    return (y_2 - y)/est_precision * sign"
   ]
  },
  {
   "cell_type": "code",
   "execution_count": 13,
   "id": "9b78699f-ea71-4c4b-8bf7-b3abc1e990ea",
   "metadata": {},
   "outputs": [
    {
     "data": {
      "text/plain": [
       "6.009999999999849"
      ]
     },
     "execution_count": 13,
     "metadata": {},
     "output_type": "execute_result"
    }
   ],
   "source": [
    "derivative(2, 0.01, 1)"
   ]
  },
  {
   "cell_type": "code",
   "execution_count": 14,
   "id": "b9147a9c-5421-4183-aa9d-945875481424",
   "metadata": {},
   "outputs": [],
   "source": [
    "def sec_derivative(x, est_precision, sign):\n",
    "    x_2 = x + est_precision * sign\n",
    "    y = derivative(x, est_precision, sign)\n",
    "    y_2 = derivative(x_2, est_precision, sign)\n",
    "    return (y_2 - y)/est_precision * sign"
   ]
  },
  {
   "cell_type": "code",
   "execution_count": 15,
   "id": "362e6546-b6ae-42ae-8397-4c470a34fc51",
   "metadata": {},
   "outputs": [
    {
     "data": {
      "text/plain": [
       "1.9999999999953388"
      ]
     },
     "execution_count": 15,
     "metadata": {},
     "output_type": "execute_result"
    }
   ],
   "source": [
    "sec_derivative(2, 0.01, 1)"
   ]
  },
  {
   "cell_type": "code",
   "execution_count": 25,
   "id": "8082795e-86c8-4b89-a67f-11ab974a0299",
   "metadata": {},
   "outputs": [],
   "source": [
    "def optimize(x, itter=10000):\n",
    "    for i in range(itter):\n",
    "        est_precision = 1/((i+1)*100)\n",
    "        sign = (-1)**i\n",
    "        dev = derivative(x, est_precision, sign)\n",
    "        sec_dev = sec_derivative(x, est_precision, sign)\n",
    "        x = x - dev/sec_dev\n",
    "    return x"
   ]
  },
  {
   "cell_type": "code",
   "execution_count": 26,
   "id": "01a9e881-426c-4539-9759-de5b191378ea",
   "metadata": {},
   "outputs": [
    {
     "data": {
      "text/plain": [
       "-0.9999999511922621"
      ]
     },
     "execution_count": 26,
     "metadata": {},
     "output_type": "execute_result"
    }
   ],
   "source": [
    "optimize(5, 100000)"
   ]
  },
  {
   "cell_type": "code",
   "execution_count": null,
   "id": "ba2d63b3-bfe0-4a97-9c24-d88d161182cb",
   "metadata": {},
   "outputs": [],
   "source": []
  }
 ],
 "metadata": {
  "kernelspec": {
   "display_name": "Python 3 (ipykernel)",
   "language": "python",
   "name": "python3"
  },
  "language_info": {
   "codemirror_mode": {
    "name": "ipython",
    "version": 3
   },
   "file_extension": ".py",
   "mimetype": "text/x-python",
   "name": "python",
   "nbconvert_exporter": "python",
   "pygments_lexer": "ipython3",
   "version": "3.11.9"
  }
 },
 "nbformat": 4,
 "nbformat_minor": 5
}
